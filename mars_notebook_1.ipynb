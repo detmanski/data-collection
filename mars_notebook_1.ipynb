{
 "cells": [
  {
   "cell_type": "code",
   "execution_count": 67,
   "id": "e4ab96a1",
   "metadata": {},
   "outputs": [],
   "source": [
    "#import dependencies\n",
    "from splinter import Browser\n",
    "from bs4 import BeautifulSoup as soup"
   ]
  },
  {
   "cell_type": "code",
   "execution_count": 68,
   "id": "33048e1b",
   "metadata": {},
   "outputs": [],
   "source": [
    "#set up Splinter\n",
    "browser = Browser('chrome')"
   ]
  },
  {
   "cell_type": "code",
   "execution_count": 69,
   "id": "8d019612",
   "metadata": {},
   "outputs": [
    {
     "data": {
      "text/plain": [
       "True"
      ]
     },
     "execution_count": 69,
     "metadata": {},
     "output_type": "execute_result"
    }
   ],
   "source": [
    "#visit the mars news site\n",
    "url = 'https://static.bc-edx.com/data/web/mars_news/index.html'\n",
    "browser.visit(url)\n",
    "browser.is_element_present_by_css('div.list_text', wait_time=1)"
   ]
  },
  {
   "cell_type": "code",
   "execution_count": 88,
   "id": "94abc03c",
   "metadata": {},
   "outputs": [],
   "source": [
    "#scrape the website\n",
    "html = browser.html\n",
    "#create a BeautifulSoup object from the scraped HTML\n",
    "news_soup = soup(html, 'html.parser')"
   ]
  },
  {
   "cell_type": "code",
   "execution_count": 90,
   "id": "44efea9f",
   "metadata": {},
   "outputs": [],
   "source": [
    "#extract all text elements\n",
    "main_area = news_soup.find('div', id='news')\n",
    "articles = main_area.find_all('div', class_='list_text')"
   ]
  },
  {
   "cell_type": "code",
   "execution_count": 91,
   "id": "006ec052",
   "metadata": {},
   "outputs": [],
   "source": [
    "#create an empty list to store dictionaries\n",
    "mars_list = []"
   ]
  },
  {
   "cell_type": "code",
   "execution_count": 92,
   "id": "9f02371c",
   "metadata": {},
   "outputs": [],
   "source": [
    "#loop through the text elements\n",
    "#extract the title and preview text from the elements\n",
    "#store each title and preview in a dictionary\n",
    "#add dictionary to the list\n",
    "for article in articles:\n",
    "        title = article.find(\"div\", class_='content_title')\n",
    "        preview = article.find('div', class_='article_teaser_body')\n",
    "        mars_dict = {'title': title,\n",
    "                    'preview': preview}\n",
    "        mars_list.append(mars_dict)"
   ]
  },
  {
   "cell_type": "code",
   "execution_count": 93,
   "id": "7eeea124",
   "metadata": {},
   "outputs": [
    {
     "name": "stdout",
     "output_type": "stream",
     "text": [
      "[{'title': <div class=\"content_title\">NASA's MAVEN Observes Martian Light Show Caused by Major Solar Storm</div>, 'preview': <div class=\"article_teaser_body\">For the first time in its eight years orbiting Mars, NASA’s MAVEN mission witnessed two different types of ultraviolet aurorae simultaneously, the result of solar storms that began on Aug. 27.</div>}, {'title': <div class=\"content_title\">NASA Prepares to Say 'Farewell' to InSight Spacecraft</div>, 'preview': <div class=\"article_teaser_body\">A closer look at what goes into wrapping up the mission as the spacecraft’s power supply continues to dwindle.</div>}, {'title': <div class=\"content_title\">NASA and ESA Agree on Next Steps to Return Mars Samples to Earth</div>, 'preview': <div class=\"article_teaser_body\">The agency’s Perseverance rover will establish the first sample depot on Mars.</div>}, {'title': <div class=\"content_title\">NASA's InSight Lander Detects Stunning Meteoroid Impact on Mars</div>, 'preview': <div class=\"article_teaser_body\">The agency’s lander felt the ground shake during the impact while cameras aboard the Mars Reconnaissance Orbiter spotted the yawning new crater from space.</div>}, {'title': <div class=\"content_title\">NASA To Host Briefing on InSight, Mars Reconnaissance Orbiter Findings</div>, 'preview': <div class=\"article_teaser_body\">Scientists from two Mars missions will discuss how they combined images and data for a major finding on the Red Planet.</div>}, {'title': <div class=\"content_title\">Why NASA Is Trying To Crash Land on Mars</div>, 'preview': <div class=\"article_teaser_body\">Like a car’s crumple zone, the experimental SHIELD lander is designed to absorb a hard impact.</div>}, {'title': <div class=\"content_title\">Curiosity Mars Rover Reaches Long-Awaited Salty Region</div>, 'preview': <div class=\"article_teaser_body\">After years of climbing, the Mars rover has arrived at a special region believed to have formed as Mars’ climate was drying.</div>}, {'title': <div class=\"content_title\">Mars Mission Shields Up for Tests</div>, 'preview': <div class=\"article_teaser_body\">Protecting Mars Sample Return spacecraft from micrometeorites requires high-caliber work.</div>}, {'title': <div class=\"content_title\">NASA's InSight Waits Out Dust Storm</div>, 'preview': <div class=\"article_teaser_body\">InSight’s team is taking steps to help the solar-powered lander continue operating for as long as possible.</div>}, {'title': <div class=\"content_title\">NASA's InSight 'Hears' Its First Meteoroid Impacts on Mars</div>, 'preview': <div class=\"article_teaser_body\">The Mars lander’s seismometer has picked up vibrations from four separate impacts in the past two years.</div>}, {'title': <div class=\"content_title\">NASA's Perseverance Rover Investigates Geologically Rich Mars Terrain</div>, 'preview': <div class=\"article_teaser_body\">The latest findings provide greater detail on a region of the Red Planet that has a watery past and is yielding promising samples for the NASA-ESA Mars Sample Return campaign.</div>}, {'title': <div class=\"content_title\">NASA to Host Briefing on Perseverance Mars Rover Mission Operations</div>, 'preview': <div class=\"article_teaser_body\">Members of the mission will discuss the rover’s activities as it gathers samples in an ancient river delta.</div>}, {'title': <div class=\"content_title\">NASA's Perseverance Makes New Discoveries in Mars' Jezero Crater</div>, 'preview': <div class=\"article_teaser_body\">The rover found that Jezero Crater’s floor is made up of volcanic rocks that have interacted with water.</div>}, {'title': <div class=\"content_title\">10 Years Since Landing, NASA's Curiosity Mars Rover Still Has Drive</div>, 'preview': <div class=\"article_teaser_body\">Despite signs of wear, the intrepid spacecraft is about to start an exciting new chapter of its mission as it climbs a Martian mountain.</div>}, {'title': <div class=\"content_title\">SAM's Top 5 Discoveries Aboard NASA's Curiosity Rover at Mars</div>, 'preview': <div class=\"article_teaser_body\">“Selfie” of the Curiosity rover with inset showing the SAM instrument prior to installation on the rover.</div>}]\n"
     ]
    }
   ],
   "source": [
    "#Print to confirm success\n",
    "print(mars_list)\n"
   ]
  },
  {
   "cell_type": "code",
   "execution_count": 94,
   "id": "c29cfb0f",
   "metadata": {},
   "outputs": [],
   "source": [
    "browser.quit()"
   ]
  }
 ],
 "metadata": {
  "kernelspec": {
   "display_name": "PythonData",
   "language": "python",
   "name": "pythondata"
  },
  "language_info": {
   "codemirror_mode": {
    "name": "ipython",
    "version": 3
   },
   "file_extension": ".py",
   "mimetype": "text/x-python",
   "name": "python",
   "nbconvert_exporter": "python",
   "pygments_lexer": "ipython3",
   "version": "3.7.7"
  }
 },
 "nbformat": 4,
 "nbformat_minor": 5
}
